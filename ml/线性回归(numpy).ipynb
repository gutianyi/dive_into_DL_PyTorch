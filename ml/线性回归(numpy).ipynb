{
 "cells": [
  {
   "cell_type": "code",
   "execution_count": 12,
   "metadata": {},
   "outputs": [],
   "source": [
    "import pandas as  pd\n",
    "import numpy as np\n",
    "import warnings \n",
    "import datetime\n",
    "import seaborn as sns\n",
    "import matplotlib.pyplot as plt\n",
    "import datetime \n",
    "from scipy import stats\n",
    "import pandas_profiling\n",
    "from IPython import display\n",
    "%matplotlib inline\n",
    "warnings.filterwarnings('ignore')"
   ]
  },
  {
   "cell_type": "code",
   "execution_count": 13,
   "metadata": {},
   "outputs": [],
   "source": [
    "import torch\n",
    "# 生成数据集\n",
    "num_inputs = 2\n",
    "num_examples = 1000\n",
    "\n",
    "true_w = [10.8, 5.5]\n",
    "true_b = 6.1"
   ]
  },
  {
   "cell_type": "code",
   "execution_count": 14,
   "metadata": {},
   "outputs": [],
   "source": [
    "train_X = np.random.normal(0, 1, size=(1000,2))\n",
    "train_y = true_w[0] * train_X[:, 0] + true_w[1] * train_X[:, 1] + true_b\n",
    "train_y += np.random.normal(0, 0.01, size=1)"
   ]
  },
  {
   "cell_type": "code",
   "execution_count": 15,
   "metadata": {},
   "outputs": [
    {
     "data": {
      "text/plain": [
       "([array([ 0.,  0.,  1.,  0.,  0.,  1.,  0.,  1.,  1.,  4.,  5.,  6.,  9.,\n",
       "          8., 11., 16., 15., 23., 19., 38., 47., 39., 46., 46., 48., 50.,\n",
       "         63., 54., 52., 53., 50., 39., 50., 35., 33., 31., 21., 15., 16.,\n",
       "          9., 18.,  5.,  6.,  4.,  3.,  3.,  4.,  0.,  1.,  1.]),\n",
       "  array([ 1.,  0.,  0.,  0.,  1.,  0.,  1.,  0.,  4.,  2.,  4.,  5.,  7.,\n",
       "          7., 10., 23., 16., 23., 26., 30., 36., 39., 51., 47., 41., 58.,\n",
       "         53., 55., 61., 55., 55., 52., 51., 28., 32., 30., 21., 22., 15.,\n",
       "         14.,  9.,  8.,  3.,  1.,  2.,  1.,  0.,  0.,  0.,  0.])],\n",
       " array([-3.78658473, -3.64686757, -3.50715041, -3.36743325, -3.22771609,\n",
       "        -3.08799893, -2.94828177, -2.8085646 , -2.66884744, -2.52913028,\n",
       "        -2.38941312, -2.24969596, -2.1099788 , -1.97026164, -1.83054448,\n",
       "        -1.69082732, -1.55111016, -1.411393  , -1.27167584, -1.13195868,\n",
       "        -0.99224152, -0.85252435, -0.71280719, -0.57309003, -0.43337287,\n",
       "        -0.29365571, -0.15393855, -0.01422139,  0.12549577,  0.26521293,\n",
       "         0.40493009,  0.54464725,  0.68436441,  0.82408157,  0.96379873,\n",
       "         1.10351589,  1.24323306,  1.38295022,  1.52266738,  1.66238454,\n",
       "         1.8021017 ,  1.94181886,  2.08153602,  2.22125318,  2.36097034,\n",
       "         2.5006875 ,  2.64040466,  2.78012182,  2.91983898,  3.05955614,\n",
       "         3.19927331]),\n",
       " <a list of 2 Lists of Patches objects>)"
      ]
     },
     "execution_count": 15,
     "metadata": {},
     "output_type": "execute_result"
    },
    {
     "data": {
      "image/png": "[encoded data removed]",
      "text/plain": [
       "<Figure size 432x288 with 1 Axes>"
      ]
     },
     "metadata": {
      "needs_background": "light"
     },
     "output_type": "display_data"
    }
   ],
   "source": [
    "plt.hist(train_X,50)"
   ]
  },
  {
   "cell_type": "code",
   "execution_count": 16,
   "metadata": {},
   "outputs": [
    {
     "data": {
      "text/plain": [
       "<matplotlib.collections.PathCollection at 0x1a2c57a6d0>"
      ]
     },
     "execution_count": 16,
     "metadata": {},
     "output_type": "execute_result"
    },
    {
     "data": {
      "image/png": "[encoded data removed]",
      "text/plain": [
       "<Figure size 432x288 with 1 Axes>"
      ]
     },
     "metadata": {
      "needs_background": "light"
     },
     "output_type": "display_data"
    }
   ],
   "source": [
    "plt.scatter(train_X[:,0],train_y,1)"
   ]
  },
  {
   "cell_type": "code",
   "execution_count": 17,
   "metadata": {},
   "outputs": [
    {
     "name": "stdout",
     "output_type": "stream",
     "text": [
      "m 2\n",
      "n_x 1000\n",
      "n_h 3\n"
     ]
    }
   ],
   "source": [
    "m = train_X.shape[1]\n",
    "n_x = train_X.shape[0]\n",
    "n_h = 3\n",
    "n_y = 1\n",
    "print('m',m)\n",
    "print('n_x',n_x)\n",
    "print('n_h',n_h)"
   ]
  },
  {
   "cell_type": "code",
   "execution_count": 18,
   "metadata": {},
   "outputs": [],
   "source": [
    "W1 = np.random.normal(0,1, (2, 1))\n",
    "b = 1"
   ]
  },
  {
   "cell_type": "code",
   "execution_count": 19,
   "metadata": {},
   "outputs": [],
   "source": [
    "def lr_model(X,W1,b1):\n",
    "    return np.dot(X,W1) + b1\n",
    "def squared_loss(y_hat, y): \n",
    "    return (y_hat - y) ** 2 / 2\n",
    "\n",
    "def backward_propagation(W,b,y_hat, y,x,lr):\n",
    "    W -= np.dot((y_hat - y).reshape(1,1000),x).reshape(2,1) * lr\n",
    "    b -= (y_hat - y) *lr\n",
    "    return W,b.mean()"
   ]
  },
  {
   "cell_type": "code",
   "execution_count": 20,
   "metadata": {},
   "outputs": [
    {
     "name": "stdout",
     "output_type": "stream",
     "text": [
      "epoch:  4999 | loss:  0.0005962534692719423\n",
      "W1, b为： [[10.80012015]\n",
      " [ 5.49934658]] 6.090079526346617\n"
     ]
    }
   ],
   "source": [
    "for epoch in range(5000):\n",
    "    output = lr_model(train_X,W1,b)  #(1000, 1)\n",
    "    loss = squared_loss(output.reshape(len(train_y)),train_y).reshape(1,1000)\n",
    "    W1,b = backward_propagation(W1,b,output.reshape(len(train_y)),train_y,train_X,0.001)\n",
    "print('epoch: ',epoch,'| loss: ',loss.mean())\n",
    "print('W1, b为：',W1,b)"
   ]
  },
  {
   "cell_type": "code",
   "execution_count": null,
   "metadata": {},
   "outputs": [],
   "source": []
  },
  {
   "cell_type": "code",
   "execution_count": null,
   "metadata": {},
   "outputs": [],
   "source": []
  }
 ],
 "metadata": {
  "kernelspec": {
   "display_name": "Python 3",
   "language": "python",
   "name": "python3"
  },
  "language_info": {
   "codemirror_mode": {
    "name": "ipython",
    "version": 3
   },
   "file_extension": ".py",
   "mimetype": "text/x-python",
   "name": "python",
   "nbconvert_exporter": "python",
   "pygments_lexer": "ipython3",
   "version": "3.7.4"
  }
 },
 "nbformat": 4,
 "nbformat_minor": 4
}
